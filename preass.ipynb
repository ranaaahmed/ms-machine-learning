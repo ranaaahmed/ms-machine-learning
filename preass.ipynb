{
 "cells": [
  {
   "cell_type": "code",
   "execution_count": 2,
   "metadata": {},
   "outputs": [
    {
     "name": "stdout",
     "output_type": "stream",
     "text": [
      "Outliers count per feature: {'Confirmed': 24, 'Deaths': 33, 'Recovered': 25, 'Active': 32, 'New cases': 25, 'New deaths': 28, 'New recovered': 31}\n",
      "Missing values per column: Country/Region            0\n",
      "Confirmed                 0\n",
      "Deaths                    0\n",
      "Recovered                 0\n",
      "Active                    0\n",
      "New cases                 0\n",
      "New deaths                0\n",
      "New recovered             0\n",
      "Deaths / 100 Cases        0\n",
      "Recovered / 100 Cases     0\n",
      "Deaths / 100 Recovered    0\n",
      "Confirmed last week       0\n",
      "1 week change             0\n",
      "1 week % increase         0\n",
      "WHO Region                0\n",
      "dtype: int64\n"
     ]
    }
   ],
   "source": [
    "import pandas as pd\n",
    "\n",
    "data_csv = pd.read_csv('/Users/ranaahmed/Downloads/country_wise_latest.csv')\n",
    "\n",
    "def detect_outliers(data, feature):\n",
    "    Q1 = data[feature].quantile(0.25)\n",
    "    Q3 = data[feature].quantile(0.75)\n",
    "    IQR = Q3 - Q1\n",
    "    lower_bound = Q1 - 1.5 * IQR\n",
    "    upper_bound = Q3 + 1.5 * IQR\n",
    "    return data[(data[feature] < lower_bound) | (data[feature] > upper_bound)].index\n",
    "\n",
    "\n",
    "features = [\"Confirmed\", \"Deaths\", \"Recovered\", \"Active\", \"New cases\", \"New deaths\", \"New recovered\"]\n",
    "\n",
    "\n",
    "outliers_indices = {feature: detect_outliers(data_csv, feature) for feature in features}\n",
    "\n",
    "outliers_count = {feature: len(indices) for feature, indices in outliers_indices.items()}\n",
    "print(\"Outliers count per feature:\", outliers_count)\n",
    "\n",
    "missing_values = data_csv.isnull().sum()\n",
    "print(\"Missing values per column:\", missing_values)"
   ]
  }
 ],
 "metadata": {
  "kernelspec": {
   "display_name": "base",
   "language": "python",
   "name": "python3"
  },
  "language_info": {
   "codemirror_mode": {
    "name": "ipython",
    "version": 3
   },
   "file_extension": ".py",
   "mimetype": "text/x-python",
   "name": "python",
   "nbconvert_exporter": "python",
   "pygments_lexer": "ipython3",
   "version": "3.11.5"
  }
 },
 "nbformat": 4,
 "nbformat_minor": 2
}
